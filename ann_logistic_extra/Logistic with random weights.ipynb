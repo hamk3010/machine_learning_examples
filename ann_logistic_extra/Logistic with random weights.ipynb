{
 "cells": [
  {
   "cell_type": "code",
   "execution_count": 11,
   "metadata": {
    "collapsed": false
   },
   "outputs": [
    {
     "name": "stdout",
     "output_type": "stream",
     "text": [
      "Score: 0.530150753769\n"
     ]
    }
   ],
   "source": [
    "import numpy as np\n",
    "from process import get_binary_data\n",
    "\n",
    "X, Y = get_binary_data() #this will just fetch the binary values from the entire ecommerce data frame\n",
    "D= X.shape[1] #number of columns\n",
    "W = np.random.randn(D) #we assign random weights to it (our hypothesis is this gives horrible results)\n",
    "b= 0 #b is our (bias term/intercept)\n",
    "\n",
    "def sigmoid(a):\n",
    "    return 1/ (1+np.exp(-a))\n",
    "\n",
    "#we just test our data here with random weight to check our classification on a sigmoid graph\n",
    "#remember our X will only give values that are 0 or 1 (and we get_binary_data)\n",
    "#fetched us values that got us Y-values that did exactly that.\n",
    "def forward(X,W,b):\n",
    "    return sigmoid(X.dot(W) + b)\n",
    "\n",
    "P_Y_given_X = forward(X,W,b)\n",
    "predictions= np.round(P_Y_given_X)\n",
    "\n",
    "def classification_rate(Y,P):\n",
    "    #this gives us a mean of correct values out of all\n",
    "    return np.mean(Y==P)\n",
    "\n",
    "print \"Score:\", classification_rate(Y,predictions)\n"
   ]
  },
  {
   "cell_type": "code",
   "execution_count": null,
   "metadata": {
    "collapsed": true
   },
   "outputs": [],
   "source": []
  }
 ],
 "metadata": {
  "anaconda-cloud": {},
  "kernelspec": {
   "display_name": "Python 2",
   "language": "python",
   "name": "python2"
  },
  "language_info": {
   "codemirror_mode": {
    "name": "ipython",
    "version": 2
   },
   "file_extension": ".py",
   "mimetype": "text/x-python",
   "name": "python",
   "nbconvert_exporter": "python",
   "pygments_lexer": "ipython2",
   "version": "2.7.12"
  }
 },
 "nbformat": 4,
 "nbformat_minor": 1
}
