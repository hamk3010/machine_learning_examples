{
 "cells": [
  {
   "cell_type": "code",
   "execution_count": 5,
   "metadata": {
    "collapsed": false
   },
   "outputs": [
    {
     "data": {
      "text/html": [
       "<div>\n",
       "<table border=\"1\" class=\"dataframe\">\n",
       "  <thead>\n",
       "    <tr style=\"text-align: right;\">\n",
       "      <th></th>\n",
       "      <th>is_mobile</th>\n",
       "      <th>n_products_viewed</th>\n",
       "      <th>visit_duration</th>\n",
       "      <th>is_returning_visitor</th>\n",
       "      <th>time_of_day</th>\n",
       "      <th>user_action</th>\n",
       "    </tr>\n",
       "  </thead>\n",
       "  <tbody>\n",
       "    <tr>\n",
       "      <th>0</th>\n",
       "      <td>1</td>\n",
       "      <td>0</td>\n",
       "      <td>0.657510</td>\n",
       "      <td>0</td>\n",
       "      <td>3</td>\n",
       "      <td>0</td>\n",
       "    </tr>\n",
       "    <tr>\n",
       "      <th>1</th>\n",
       "      <td>1</td>\n",
       "      <td>1</td>\n",
       "      <td>0.568571</td>\n",
       "      <td>0</td>\n",
       "      <td>2</td>\n",
       "      <td>1</td>\n",
       "    </tr>\n",
       "    <tr>\n",
       "      <th>2</th>\n",
       "      <td>1</td>\n",
       "      <td>0</td>\n",
       "      <td>0.042246</td>\n",
       "      <td>1</td>\n",
       "      <td>1</td>\n",
       "      <td>0</td>\n",
       "    </tr>\n",
       "    <tr>\n",
       "      <th>3</th>\n",
       "      <td>1</td>\n",
       "      <td>1</td>\n",
       "      <td>1.659793</td>\n",
       "      <td>1</td>\n",
       "      <td>1</td>\n",
       "      <td>2</td>\n",
       "    </tr>\n",
       "    <tr>\n",
       "      <th>4</th>\n",
       "      <td>0</td>\n",
       "      <td>1</td>\n",
       "      <td>2.014745</td>\n",
       "      <td>1</td>\n",
       "      <td>1</td>\n",
       "      <td>2</td>\n",
       "    </tr>\n",
       "  </tbody>\n",
       "</table>\n",
       "</div>"
      ],
      "text/plain": [
       "   is_mobile  n_products_viewed  visit_duration  is_returning_visitor  \\\n",
       "0          1                  0        0.657510                     0   \n",
       "1          1                  1        0.568571                     0   \n",
       "2          1                  0        0.042246                     1   \n",
       "3          1                  1        1.659793                     1   \n",
       "4          0                  1        2.014745                     1   \n",
       "\n",
       "   time_of_day  user_action  \n",
       "0            3            0  \n",
       "1            2            1  \n",
       "2            1            0  \n",
       "3            1            2  \n",
       "4            1            2  "
      ]
     },
     "execution_count": 5,
     "metadata": {},
     "output_type": "execute_result"
    }
   ],
   "source": [
    "import numpy as np\n",
    "import pandas as pd\n",
    "\n",
    "\n",
    "df= pd.read_csv('ecommerce_data.csv')\n",
    "df.head()\n",
    "\n",
    "    "
   ]
  },
  {
   "cell_type": "code",
   "execution_count": 6,
   "metadata": {
    "collapsed": true
   },
   "outputs": [],
   "source": [
    "def get_data():\n",
    "    df = pd.read_csv('ecommerce_data.csv')\n",
    "    data = df.as_matrix() #convert the data frame into a matrix\n",
    "    \n",
    "    X= data[:, :-1] #everything else we consider it an input\n",
    "    Y= data[:,-1] #user_action is our Y (the last column)\n",
    "   \n",
    "    #normalize the X1\n",
    "    X[:,1] = (X[:,1] - X[:,1].mean() )/ X[:,1].std()\n",
    "    #normalize the X2\n",
    "    X[:,2] = (X[:,2] - X[:,2].mean() )/ X[:,2].std()\n",
    "    \n",
    "    #TIME OF DAY\n",
    "    #this is the categorical column that we need to work on \n",
    "    #the category is divided in the following manner:\n",
    "    # 0: 12am - 6am => [1,0,0,0]\n",
    "    # 1: 6am - 12pm => [0,1,0,0]\n",
    "    # 2: 12pm - 6pm => [0,0,1,0]\n",
    "    # 3: 6pm - 12pm => [0,0,0,1]\n",
    "    N,D = X.shape #get the shape of in input values\n",
    "    \n",
    "    #we add 3 more columns so we can convert the each numerical caterogical\n",
    "    #value into a 4 row boolean column vector \n",
    "    X2 = np.zeros( (N,D+3) ) \n",
    "    \n",
    "    #copy the entire matrix up till time_of_day column\n",
    "    X2[:0:(D-1)] = X[:,0:(D-1)]\n",
    "    \n",
    "    #for the other column we'll do \"one hot encoding\"\n",
    "    for n in xrange(N):\n",
    "        t= int(X[n,D-1])\n",
    "        X2[n,t+D-1]= 1\n",
    "        \n",
    "    #Another consise way to do \"one hot encoding\"\n",
    "    Z = np.zeros((N,4))\n",
    "    Z[np.arange(N), X[:,D-1].astype(np.int32)]\n",
    "#     X2[:,-4:] = Z\n",
    "\n",
    "    return X2, Y\n",
    "\n",
    "\n",
    "def get_binary_data():\n",
    "    X, Y = get_data()\n",
    "    X2= X[Y<=1] #X2 is where Y is either 0 or 1 (Y is user_action that can have values 0,1,2)\n",
    "    Y2 = Y[Y<=1] \n",
    "    return X2, Y2"
   ]
  },
  {
   "cell_type": "code",
   "execution_count": null,
   "metadata": {
    "collapsed": true
   },
   "outputs": [],
   "source": []
  }
 ],
 "metadata": {
  "anaconda-cloud": {},
  "kernelspec": {
   "display_name": "Python 2",
   "language": "python",
   "name": "python2"
  },
  "language_info": {
   "codemirror_mode": {
    "name": "ipython",
    "version": 2
   },
   "file_extension": ".py",
   "mimetype": "text/x-python",
   "name": "python",
   "nbconvert_exporter": "python",
   "pygments_lexer": "ipython2",
   "version": "2.7.12"
  }
 },
 "nbformat": 4,
 "nbformat_minor": 1
}
