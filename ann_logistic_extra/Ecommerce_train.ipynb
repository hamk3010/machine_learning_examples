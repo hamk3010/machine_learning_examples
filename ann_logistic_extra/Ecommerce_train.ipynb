{
 "cells": [
  {
   "cell_type": "code",
   "execution_count": 3,
   "metadata": {
    "collapsed": false
   },
   "outputs": [
    {
     "name": "stdout",
     "output_type": "stream",
     "text": [
      "0 0.498654595465 0.515387749076\n",
      "1000 0.203830774815 0.126613051681\n",
      "2000 0.202841066132 0.126016478353\n",
      "3000 0.202771575926 0.126071847935\n",
      "4000 0.202765713988 0.126099474285\n",
      "5000 0.202765195544 0.126108478131\n",
      "6000 0.20276514906 0.126111232111\n",
      "7000 0.202765144875 0.126112062835\n",
      "8000 0.202765144498 0.126112312584\n",
      "9000 0.202765144464 0.126112387605\n",
      "Final train classification_rate:  0.963087248322\n",
      "Final test classification_rate:  0.98\n"
     ]
    },
    {
     "data": {
      "image/png": "[encoded data removed]",
      "text/plain": [
       "<matplotlib.figure.Figure at 0x10ba0cdd0>"
      ]
     },
     "metadata": {},
     "output_type": "display_data"
    }
   ],
   "source": [
    "import numpy as np\n",
    "import matplotlib.pyplot as plt\n",
    "\n",
    "from sklearn.utils import shuffle\n",
    "from process import get_binary_data\n",
    "\n",
    "X, Y = get_binary_data()\n",
    "X, Y= shuffle(X,Y)\n",
    "\n",
    "Xtrain= X[:-100]\n",
    "Ytrain = Y[:-100]\n",
    "Xtest = X[-100:] #100 data points will be our validation data\n",
    "Ytest = Y[-100:] \n",
    "\n",
    "D= X.shape[1]\n",
    "W= np.random.randn(D) #we initialize with random weights\n",
    "b = 0\n",
    "\n",
    "def sigmoid(a):\n",
    "    return 1/(1+ np.exp(-a))\n",
    "\n",
    "def forward(X, W, b):\n",
    "    return sigmoid(X.dot(W) + b)\n",
    "\n",
    "def classification_rate(Y,P):\n",
    "    return np.mean(Y==P)\n",
    "\n",
    "#cross entropy function p^T(1-p)^N-T T is our trial nums pY is our probability\n",
    "def cross_entropy(T, pY):\n",
    "    return -np.mean(T*np.log(pY) + (1-T)*np.log(1-pY) )\n",
    "\n",
    "train_costs = []\n",
    "test_costs = []\n",
    "learning_rate = 0.001\n",
    "\n",
    "for i in xrange(10000):\n",
    "    pYtrain = forward(Xtrain, W, b)\n",
    "    pYtest = forward(Xtest, W, b)\n",
    "    \n",
    "    ctrain= cross_entropy(Ytrain, pYtrain)\n",
    "    ctest = cross_entropy(Ytest, pYtest)\n",
    "    train_costs.append(ctrain)\n",
    "    test_costs.append(ctest)\n",
    "    \n",
    "    W-= learning_rate*Xtrain.T.dot(pYtrain- Ytrain)\n",
    "    b -= learning_rate*(pYtrain- Ytrain).sum()\n",
    "    \n",
    "    if i% 1000==0:\n",
    "        print i, ctrain, ctest\n",
    "        \n",
    "print \"Final train classification_rate: \", classification_rate(Ytrain, np.round(pYtrain))\n",
    "print \"Final test classification_rate: \", classification_rate(Ytest, np.round(pYtest) )\n",
    "\n",
    "legend1, = plt.plot(train_costs, label= 'train cost')\n",
    "legend2, = plt.plot(train_costs, label= 'test cost')\n",
    "plt.legend([legend1, legend2] )\n",
    "plt.show()\n"
   ]
  },
  {
   "cell_type": "code",
   "execution_count": null,
   "metadata": {
    "collapsed": true
   },
   "outputs": [],
   "source": []
  }
 ],
 "metadata": {
  "anaconda-cloud": {},
  "kernelspec": {
   "display_name": "Python 2",
   "language": "python",
   "name": "python2"
  },
  "language_info": {
   "codemirror_mode": {
    "name": "ipython",
    "version": 2
   },
   "file_extension": ".py",
   "mimetype": "text/x-python",
   "name": "python",
   "nbconvert_exporter": "python",
   "pygments_lexer": "ipython2",
   "version": "2.7.12"
  }
 },
 "nbformat": 4,
 "nbformat_minor": 1
}
