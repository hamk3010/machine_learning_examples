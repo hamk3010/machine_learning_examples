{
 "cells": [
  {
   "cell_type": "code",
   "execution_count": 16,
   "metadata": {
    "collapsed": false
   },
   "outputs": [],
   "source": [
    "import numpy as np\n",
    "import matplotlib.pyplot as plt\n",
    "from sklearn.utils import shuffle\n",
    "from util import getBinaryData, sigmoid, sigmoid_cost, error_rate\n",
    "\n",
    "class LogisticModel(object):\n",
    "    def __init__(self):\n",
    "        pass\n",
    "    \n",
    "    def fit(self, X, Y, learning_rate= 10e-7, reg=0, epochs=100, show_fig=False):\n",
    "        X,Y = shuffle(X,Y)\n",
    "        Xvalid, Yvalid= X[-1000:], Y[-1000:]\n",
    "        \n",
    "        N,D = X.shape\n",
    "        self.W = np.random.randn(D)/np.sqrt(D)\n",
    "        self.b= 0\n",
    "        \n",
    "        costs= []\n",
    "        best_validation_error= 1\n",
    "        \n",
    "        for i in xrange(epochs):\n",
    "            pY= self.forward(X)\n",
    "            \n",
    "            #Gradient Descent\n",
    "            self.W -= learning_rate* (X.T.dot(pY-Y)+ reg*self.W)\n",
    "            self.b -= learning_rate* ((pY - Y).sum() + reg*self.b)\n",
    "            \n",
    "            \n",
    "            if i% 20 ==0:\n",
    "                pYvalid = self.forward(Xvalid)\n",
    "                c= sigmoid_cost(Yvalid, pYvalid)\n",
    "                costs.append(c)\n",
    "                e= error_rate(Yvalid, np.round(pYvalid) )\n",
    "                print \"i: \", i, \"cost:\", c, \"error:\", e\n",
    "                \n",
    "                if e < best_validation_error:\n",
    "                    best_validation_error = e\n",
    "                \n",
    "        print \"best_validation_error:\",  best_validation_error\n",
    "                \n",
    "        if show_fig:\n",
    "            plt.plot(costs)\n",
    "            plt.show()\n",
    "                    \n",
    "    def forward(self, X):\n",
    "        return sigmoid(X.dot(self.W) + self.b)\n",
    "        \n",
    "    def predict(self,X):\n",
    "        pY = self.forward(X)\n",
    "        return np.round(pY)\n",
    "        \n",
    "    def score(self, X, Y):\n",
    "        prediction = self.predict(X)\n",
    "        return 1 - error_rate(y,prediction)\n",
    "                    \n",
    "            "
   ]
  },
  {
   "cell_type": "code",
   "execution_count": 17,
   "metadata": {
    "collapsed": false
   },
   "outputs": [
    {
     "name": "stdout",
     "output_type": "stream",
     "text": [
      "i:  0 cost: 709.816701529 error: 0.503\n",
      "i:  20 cost: 682.236963393 error: 0.404\n",
      "i:  40 cost: 674.809457126 error: 0.4\n",
      "i:  60 cost: 668.941688024 error: 0.393\n",
      "i:  80 cost: 664.127138178 error: 0.386\n",
      "best_validation_error: 0.386\n"
     ]
    },
    {
     "data": {
      "image/png": "[encoded data removed]",
      "text/plain": [
       "<matplotlib.figure.Figure at 0x10a22d050>"
      ]
     },
     "metadata": {},
     "output_type": "display_data"
    },
    {
     "ename": "NameError",
     "evalue": "global name 'y' is not defined",
     "output_type": "error",
     "traceback": [
      "\u001b[0;31m---------------------------------------------------------------------------\u001b[0m",
      "\u001b[0;31mNameError\u001b[0m                                 Traceback (most recent call last)",
      "\u001b[0;32m<ipython-input-17-4a9816cc2ca0>\u001b[0m in \u001b[0;36m<module>\u001b[0;34m()\u001b[0m\n\u001b[1;32m     19\u001b[0m \u001b[0;34m\u001b[0m\u001b[0m\n\u001b[1;32m     20\u001b[0m \u001b[0;32mif\u001b[0m \u001b[0m__name__\u001b[0m \u001b[0;34m==\u001b[0m \u001b[0;34m'__main__'\u001b[0m\u001b[0;34m:\u001b[0m\u001b[0;34m\u001b[0m\u001b[0m\n\u001b[0;32m---> 21\u001b[0;31m     \u001b[0mmain\u001b[0m\u001b[0;34m(\u001b[0m\u001b[0;34m)\u001b[0m\u001b[0;34m\u001b[0m\u001b[0m\n\u001b[0m",
      "\u001b[0;32m<ipython-input-17-4a9816cc2ca0>\u001b[0m in \u001b[0;36mmain\u001b[0;34m()\u001b[0m\n\u001b[1;32m     14\u001b[0m     \u001b[0mmodel\u001b[0m \u001b[0;34m=\u001b[0m \u001b[0mLogisticModel\u001b[0m\u001b[0;34m(\u001b[0m\u001b[0;34m)\u001b[0m\u001b[0;34m\u001b[0m\u001b[0m\n\u001b[1;32m     15\u001b[0m     \u001b[0mmodel\u001b[0m\u001b[0;34m.\u001b[0m\u001b[0mfit\u001b[0m\u001b[0;34m(\u001b[0m\u001b[0mX\u001b[0m\u001b[0;34m,\u001b[0m \u001b[0mY\u001b[0m\u001b[0;34m,\u001b[0m \u001b[0mshow_fig\u001b[0m\u001b[0;34m=\u001b[0m\u001b[0mTrue\u001b[0m\u001b[0;34m)\u001b[0m\u001b[0;34m\u001b[0m\u001b[0m\n\u001b[0;32m---> 16\u001b[0;31m     \u001b[0mmodel\u001b[0m\u001b[0;34m.\u001b[0m\u001b[0mscore\u001b[0m\u001b[0;34m(\u001b[0m\u001b[0mX\u001b[0m\u001b[0;34m,\u001b[0m \u001b[0mY\u001b[0m\u001b[0;34m)\u001b[0m\u001b[0;34m\u001b[0m\u001b[0m\n\u001b[0m\u001b[1;32m     17\u001b[0m     \u001b[0;31m# scores = cross_val_score(model, X, Y, cv=5)\u001b[0m\u001b[0;34m\u001b[0m\u001b[0;34m\u001b[0m\u001b[0m\n\u001b[1;32m     18\u001b[0m     \u001b[0;31m# print \"score mean:\", np.mean(scores), \"stdev:\", np.std(scores)\u001b[0m\u001b[0;34m\u001b[0m\u001b[0;34m\u001b[0m\u001b[0m\n",
      "\u001b[0;32m<ipython-input-16-89c2fb0b7306>\u001b[0m in \u001b[0;36mscore\u001b[0;34m(self, X, Y)\u001b[0m\n\u001b[1;32m     52\u001b[0m     \u001b[0;32mdef\u001b[0m \u001b[0mscore\u001b[0m\u001b[0;34m(\u001b[0m\u001b[0mself\u001b[0m\u001b[0;34m,\u001b[0m \u001b[0mX\u001b[0m\u001b[0;34m,\u001b[0m \u001b[0mY\u001b[0m\u001b[0;34m)\u001b[0m\u001b[0;34m:\u001b[0m\u001b[0;34m\u001b[0m\u001b[0m\n\u001b[1;32m     53\u001b[0m         \u001b[0mprediction\u001b[0m \u001b[0;34m=\u001b[0m \u001b[0mself\u001b[0m\u001b[0;34m.\u001b[0m\u001b[0mpredict\u001b[0m\u001b[0;34m(\u001b[0m\u001b[0mX\u001b[0m\u001b[0;34m)\u001b[0m\u001b[0;34m\u001b[0m\u001b[0m\n\u001b[0;32m---> 54\u001b[0;31m         \u001b[0;32mreturn\u001b[0m \u001b[0;36m1\u001b[0m \u001b[0;34m-\u001b[0m \u001b[0merror_rate\u001b[0m\u001b[0;34m(\u001b[0m\u001b[0my\u001b[0m\u001b[0;34m,\u001b[0m\u001b[0mprediction\u001b[0m\u001b[0;34m)\u001b[0m\u001b[0;34m\u001b[0m\u001b[0m\n\u001b[0m\u001b[1;32m     55\u001b[0m \u001b[0;34m\u001b[0m\u001b[0m\n\u001b[1;32m     56\u001b[0m \u001b[0;34m\u001b[0m\u001b[0m\n",
      "\u001b[0;31mNameError\u001b[0m: global name 'y' is not defined"
     ]
    }
   ],
   "source": [
    "def main():\n",
    "    X, Y = getBinaryData()\n",
    "\n",
    "    X0 = X[Y==0, :]\n",
    "    X1 = X[Y==1, :]\n",
    "    X1 = np.repeat(X1, 9, axis=0)\n",
    "    X = np.vstack([X0, X1])\n",
    "    Y = np.array([0]*len(X0) + [1]*len(X1))\n",
    "\n",
    "    # N, D = X.shape\n",
    "    # print \"N:\", N\n",
    "    # print \"p(Y=0):\", np.sum(Y == 0) / float(N), \"p(Y=1):\", np.sum(Y == 1) / float(N)\n",
    "    \n",
    "    model = LogisticModel()\n",
    "    model.fit(X, Y, show_fig=True)\n",
    "    model.score(X, Y)\n",
    "    # scores = cross_val_score(model, X, Y, cv=5)\n",
    "    # print \"score mean:\", np.mean(scores), \"stdev:\", np.std(scores)\n",
    "\n",
    "if __name__ == '__main__':\n",
    "    main()\n"
   ]
  },
  {
   "cell_type": "code",
   "execution_count": null,
   "metadata": {
    "collapsed": true
   },
   "outputs": [],
   "source": []
  }
 ],
 "metadata": {
  "anaconda-cloud": {},
  "kernelspec": {
   "display_name": "Python 2",
   "language": "python",
   "name": "python2"
  },
  "language_info": {
   "codemirror_mode": {
    "name": "ipython",
    "version": 2
   },
   "file_extension": ".py",
   "mimetype": "text/x-python",
   "name": "python",
   "nbconvert_exporter": "python",
   "pygments_lexer": "ipython2",
   "version": "2.7.12"
  }
 },
 "nbformat": 4,
 "nbformat_minor": 1
}
