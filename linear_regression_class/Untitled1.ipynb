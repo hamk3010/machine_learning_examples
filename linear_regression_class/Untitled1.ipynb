{
 "cells": [
  {
   "cell_type": "code",
   "execution_count": 4,
   "metadata": {
    "collapsed": false
   },
   "outputs": [
    {
     "name": "stdout",
     "output_type": "stream",
     "text": [
      "*** No CODEPAGE record, no encoding_override: will use 'ascii'\n"
     ]
    },
    {
     "data": {
      "image/png": "[encoded data removed]",
      "text/plain": [
       "<matplotlib.figure.Figure at 0x115be22d0>"
      ]
     },
     "metadata": {},
     "output_type": "display_data"
    },
    {
     "data": {
      "image/png": "[encoded data removed]",
      "text/plain": [
       "<matplotlib.figure.Figure at 0x114f7dc90>"
      ]
     },
     "metadata": {},
     "output_type": "display_data"
    },
    {
     "name": "stdout",
     "output_type": "stream",
     "text": [
      "r2 for x2 only: 0.957840720815\n",
      "r2 for x3 only: 0.941995208529\n",
      "r2 for both:0.97684710415\n"
     ]
    }
   ],
   "source": [
    "import matplotlib.pyplot as plt\n",
    "import numpy as np\n",
    "import pandas as pd\n",
    "\n",
    "df = pd.read_excel('mlr02.xls')\n",
    "X = df.as_matrix()\n",
    "plt.scatter(X[:,1], X[:,0] )\n",
    "plt.show()\n",
    "plt.scatter(X[:,2], X[:,0] )\n",
    "plt.show()\n",
    "\n",
    "df['ones']=1\n",
    "Y= df['X1']\n",
    "X= df[['X2', 'X3', 'ones']]\n",
    "\n",
    "X2only=  df[['X2', 'ones']]\n",
    "X3only = df[['X3', 'ones']]\n",
    "\n",
    "def get_r2(X,Y):\n",
    "    w = np.linalg.solve(X.T.dot(X), X.T.dot(Y) )\n",
    "    Yhat = X.dot(w)\n",
    "    \n",
    "    d1 = Y-Yhat\n",
    "    d2 = Y - Y.mean()\n",
    "    \n",
    "    r_squared= 1 - ( d1.dot(d1)/ d2.dot(d2)) \n",
    "    return r_squared\n",
    "\n",
    "print \"r2 for x2 only: \" + str(get_r2(X2only,Y) )\n",
    "print \"r2 for x3 only: \" + str(get_r2(X3only, Y))\n",
    "print \"r2 for both:\" + str(get_r2(X,Y))"
   ]
  },
  {
   "cell_type": "code",
   "execution_count": 5,
   "metadata": {
    "collapsed": true
   },
   "outputs": [],
   "source": [
    "df['noise']= np.random.randn()"
   ]
  },
  {
   "cell_type": "code",
   "execution_count": 7,
   "metadata": {
    "collapsed": false
   },
   "outputs": [
    {
     "name": "stdout",
     "output_type": "stream",
     "text": [
      "0    -0.054559\n",
      "1     0.807932\n",
      "2    -0.109358\n",
      "3     1.111468\n",
      "4     2.257729\n",
      "5    -1.436091\n",
      "6    -0.497846\n",
      "7    -2.237687\n",
      "8    -0.008782\n",
      "9     1.691609\n",
      "10   -1.426471\n",
      "Name: noise, dtype: float64\n"
     ]
    },
    {
     "name": "stderr",
     "output_type": "stream",
     "text": [
      "/Users/hamzakhan/anaconda/lib/python2.7/site-packages/ipykernel/__main__.py:2: SettingWithCopyWarning: \n",
      "A value is trying to be set on a copy of a slice from a DataFrame\n",
      "\n",
      "See the caveats in the documentation: http://pandas.pydata.org/pandas-docs/stable/indexing.html#indexing-view-versus-copy\n",
      "  from ipykernel import kernelapp as app\n"
     ]
    }
   ],
   "source": [
    "for i in range(len(df['noise'])):\n",
    "    df['noise'][i]=np.random.randn()\n",
    "\n",
    "print df['noise']"
   ]
  },
  {
   "cell_type": "code",
   "execution_count": 8,
   "metadata": {
    "collapsed": false
   },
   "outputs": [
    {
     "name": "stdout",
     "output_type": "stream",
     "text": [
      "r2 for both:0.976865584718\n"
     ]
    }
   ],
   "source": [
    "X= df[['X2', 'X3', 'ones', 'noise']]\n",
    "print \"r2 for both:\" + str(get_r2(X,Y))"
   ]
  },
  {
   "cell_type": "code",
   "execution_count": null,
   "metadata": {
    "collapsed": true
   },
   "outputs": [],
   "source": []
  }
 ],
 "metadata": {
  "anaconda-cloud": {},
  "kernelspec": {
   "display_name": "Python 2",
   "language": "python",
   "name": "python2"
  },
  "language_info": {
   "codemirror_mode": {
    "name": "ipython",
    "version": 2
   },
   "file_extension": ".py",
   "mimetype": "text/x-python",
   "name": "python",
   "nbconvert_exporter": "python",
   "pygments_lexer": "ipython2",
   "version": "2.7.12"
  }
 },
 "nbformat": 4,
 "nbformat_minor": 1
}
