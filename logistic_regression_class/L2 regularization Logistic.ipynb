{
 "cells": [
  {
   "cell_type": "code",
   "execution_count": 1,
   "metadata": {
    "collapsed": false
   },
   "outputs": [
    {
     "name": "stdout",
     "output_type": "stream",
     "text": [
      "380.973468211\n",
      "0.136935401848\n",
      "0.141602275304\n",
      "0.145682255579\n",
      "0.149472057016\n",
      "0.153292294322\n",
      "0.157451685053\n",
      "0.162187561286\n",
      "0.167598831565\n",
      "0.17361746422\n",
      "Final w: [-0.84884101  7.11378829  7.14843747]\n"
     ]
    }
   ],
   "source": [
    "# demonstrates how to do gradient descent with numpy matrices,\n",
    "# with regularization.\n",
    "#\n",
    "# the notes for this class can be found at: \n",
    "# https://deeplearningcourses.com/c/data-science-logistic-regression-in-python\n",
    "# https://www.udemy.com/data-science-logistic-regression-in-python\n",
    "\n",
    "import numpy as np\n",
    "\n",
    "N = 100\n",
    "D = 2\n",
    "\n",
    "\n",
    "X = np.random.randn(N,D)\n",
    "\n",
    "# center the first 50 points at (-2,-2)\n",
    "X[:50,:] = X[:50,:] - 2*np.ones((50,D))\n",
    "\n",
    "# center the last 50 points at (2, 2)\n",
    "X[50:,:] = X[50:,:] + 2*np.ones((50,D))\n",
    "\n",
    "# labels: first 50 are 0, last 50 are 1\n",
    "T = np.array([0]*50 + [1]*50)\n",
    "\n",
    "# add a column of ones\n",
    "# ones = np.array([[1]*N]).T\n",
    "ones = np.ones((N, 1))\n",
    "Xb = np.concatenate((ones, X), axis=1)\n",
    "\n",
    "# randomly initialize the weights\n",
    "w = np.random.randn(D + 1)\n",
    "\n",
    "# calculate the model output\n",
    "z = Xb.dot(w)\n",
    "\n",
    "def sigmoid(z):\n",
    "    return 1/(1 + np.exp(-z))\n",
    "\n",
    "\n",
    "Y = sigmoid(z)\n",
    "\n",
    "# calculate the cross-entropy error\n",
    "def cross_entropy(T, Y):\n",
    "    E = 0\n",
    "    for i in xrange(N):\n",
    "        if T[i] == 1:\n",
    "            E -= np.log(Y[i])\n",
    "        else:\n",
    "            E -= np.log(1 - Y[i])\n",
    "    return E\n",
    "\n",
    "\n",
    "# let's do gradient descent 100 times\n",
    "learning_rate = 0.1\n",
    "for i in xrange(100):\n",
    "    if i % 10 == 0:\n",
    "        print cross_entropy(T, Y)\n",
    "\n",
    "    # gradient descent weight udpate with regularization\n",
    "    w += learning_rate * ( Xb.T.dot(T - Y) - 0.1*w )\n",
    "\n",
    "    # recalculate Y\n",
    "    Y = sigmoid(Xb.dot(w))\n",
    "\n",
    "\n",
    "print \"Final w:\", w"
   ]
  },
  {
   "cell_type": "code",
   "execution_count": null,
   "metadata": {
    "collapsed": true
   },
   "outputs": [],
   "source": []
  }
 ],
 "metadata": {
  "anaconda-cloud": {},
  "kernelspec": {
   "display_name": "Python 2",
   "language": "python",
   "name": "python2"
  },
  "language_info": {
   "codemirror_mode": {
    "name": "ipython",
    "version": 2
   },
   "file_extension": ".py",
   "mimetype": "text/x-python",
   "name": "python",
   "nbconvert_exporter": "python",
   "pygments_lexer": "ipython2",
   "version": "2.7.12"
  }
 },
 "nbformat": 4,
 "nbformat_minor": 1
}
