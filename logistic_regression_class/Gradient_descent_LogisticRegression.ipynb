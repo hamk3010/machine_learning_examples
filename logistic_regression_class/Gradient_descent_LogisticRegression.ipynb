{
 "cells": [
  {
   "cell_type": "code",
   "execution_count": 5,
   "metadata": {
    "collapsed": false
   },
   "outputs": [
    {
     "name": "stdout",
     "output_type": "stream",
     "text": [
      "182.389342561\n",
      "182.389342561\n",
      "8.42653500181e-05\n",
      "8.42507130377e-05\n",
      "8.42360813581e-05\n",
      "8.42214549761e-05\n",
      "8.42068338891e-05\n",
      "8.41922180939e-05\n",
      "8.41776075883e-05\n",
      "8.41630023686e-05\n",
      "8.41484024327e-05\n",
      "Final w:  [ -0.16462942  14.4484639   14.11677731]\n"
     ]
    }
   ],
   "source": [
    "import numpy as np\n",
    "import matplotlib.pyplot as plt\n",
    "\n",
    "N= 100\n",
    "D= 2\n",
    "\n",
    "X= np.random.randn(N,D) #here I create a 100x2 normally distributed data matirix\n",
    "\n",
    "#we create two gaussian clouds one centered at -2,-2 the other at 2,2\n",
    "X[:50, :]= X[:50,:] - 2*np.ones((50,D)) \n",
    "X[50:, :]= X[50:, :] + 2*np.ones((50,D))\n",
    "\n",
    "T = np.array([0]*50 +[1]*50)\n",
    "\n",
    "\n",
    "ones = np.array([[1]*N]).T #this creates a vector of 1s with N rows and 1 column\n",
    "Xb = np.concatenate((ones,X), axis = 1)\n",
    "\n",
    "w = np.random.randn(D+1) #this randomly inrializes a weight vector\n",
    "\n",
    "z = Xb.dot(w)\n",
    "\n",
    "def sigmoid(z):\n",
    "    return 1/(1+np.exp(-z) )\n",
    "\n",
    "Y = sigmoid(z) #this gives us a randomly selected Y=sigmoid( wT(x) )\n",
    "\n",
    "def cross_entropy(T,Y):\n",
    "    E = 0\n",
    "    for i in xrange(N):\n",
    "        if T[i] == 1:\n",
    "            E -= np.log(Y[i])\n",
    "        else:\n",
    "            E -= np.log(1-Y[i])\n",
    "    return E\n",
    "\n",
    "print cross_entropy(T,Y)\n",
    "\n",
    "learning_rate= 0.1\n",
    "for i in xrange(100):\n",
    "    if (i%10 == 0):\n",
    "        print cross_entropy(T,Y)\n",
    "    #Xb.T.dot(T-Y) is the gradient descent formula we got for logistic regression\n",
    "    #it adjusts the weights so the errors decrease (the weight vector points us\n",
    "    # into a direction where the error would be the least) learning rate is\n",
    "    #kept small so we move slowly towards the maximal value (minimal error)\n",
    "    #and not overpass it\n",
    "    w+= learning_rate* Xb.T.dot(T-Y) \n",
    "    Y = sigmoid(Xb.dot(w))\n",
    "    \n",
    "print \"Final w: \", w"
   ]
  },
  {
   "cell_type": "code",
   "execution_count": null,
   "metadata": {
    "collapsed": true
   },
   "outputs": [],
   "source": []
  }
 ],
 "metadata": {
  "anaconda-cloud": {},
  "kernelspec": {
   "display_name": "Python 2",
   "language": "python",
   "name": "python2"
  },
  "language_info": {
   "codemirror_mode": {
    "name": "ipython",
    "version": 2
   },
   "file_extension": ".py",
   "mimetype": "text/x-python",
   "name": "python",
   "nbconvert_exporter": "python",
   "pygments_lexer": "ipython2",
   "version": "2.7.12"
  }
 },
 "nbformat": 4,
 "nbformat_minor": 1
}
